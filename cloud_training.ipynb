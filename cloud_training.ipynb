{
  "nbformat": 4,
  "nbformat_minor": 0,
  "metadata": {
    "colab": {
      "name": "Cloud_Training.ipynb",
      "version": "0.3.2",
      "provenance": []
    },
    "kernelspec": {
      "name": "python3",
      "display_name": "Python 3"
    },
    "accelerator": "GPU"
  },
  "cells": [
    {
      "metadata": {
        "id": "SJeIG9EjRjq0",
        "colab_type": "code",
<<<<<<< HEAD
        "colab": {}
||||||| merged common ancestors
        "outputId": "f1fe69d3-017d-4c82-e862-f84be32927a4",
        "colab": {
          "base_uri": "https://localhost:8080/",
          "height": 34
        }
=======
        "colab": {
          "base_uri": "https://localhost:8080/",
          "height": 34
        },
        "outputId": "7981d8a1-15d0-4827-be9b-b6cf4f329b02"
>>>>>>> bb05f3d15a7d23dbb874e4db0479af2dfffdcda7
      },
      "cell_type": "code",
      "source": [
        "import keras\n",
        "from keras.applications.inception_resnet_v2 import InceptionResNetV2\n",
        "from keras.preprocessing import image\n",
        "from keras.engine import Layer\n",
        "from keras.applications.inception_resnet_v2 import preprocess_input\n",
        "from keras.layers import Conv2D, UpSampling2D, InputLayer, Conv2DTranspose, Input, Reshape, merge, concatenate\n",
        "from keras.layers import Activation, Dense, Dropout, Flatten\n",
        "from keras.layers.normalization import BatchNormalization\n",
        "from keras.callbacks import TensorBoard \n",
        "from keras.models import Sequential, Model\n",
        "from keras.layers.core import RepeatVector, Permute\n",
        "from keras.preprocessing.image import ImageDataGenerator, array_to_img, img_to_array, load_img\n",
        "from skimage.color import rgb2lab, lab2rgb, rgb2gray, gray2rgb\n",
        "from skimage.transform import resize\n",
        "from skimage.io import imsave\n",
        "from time import time\n",
        "import numpy as np\n",
        "import os\n",
        "import random\n",
        "import tensorflow as tf"
      ],
<<<<<<< HEAD
      "execution_count": 0,
      "outputs": []
||||||| merged common ancestors
      "execution_count": 4,
      "outputs": [
        {
          "output_type": "stream",
          "text": [
            "Using TensorFlow backend.\n"
          ],
          "name": "stderr"
        }
      ]
=======
      "execution_count": 1,
      "outputs": [
        {
          "output_type": "stream",
          "text": [
            "Using TensorFlow backend.\n"
          ],
          "name": "stderr"
        }
      ]
>>>>>>> bb05f3d15a7d23dbb874e4db0479af2dfffdcda7
    },
    {
      "metadata": {
        "id": "QfA9K4ImR4zv",
        "colab_type": "code",
<<<<<<< HEAD
        "colab": {}
||||||| merged common ancestors
        "outputId": "8856792d-581c-4a08-f526-317fe36a399e",
        "colab": {
          "base_uri": "https://localhost:8080/",
          "height": 34
        }
=======
        "colab": {
          "base_uri": "https://localhost:8080/",
          "height": 122
        },
        "outputId": "011f21df-0545-46a1-b55f-fa4bf313be20"
>>>>>>> bb05f3d15a7d23dbb874e4db0479af2dfffdcda7
      },
      "cell_type": "code",
      "source": [
        "from google.colab import drive\n",
        "drive.mount('/Omar')"
      ],
<<<<<<< HEAD
      "execution_count": 0,
      "outputs": []
    },
    {
      "metadata": {
        "id": "Tuwa7HiqWx91",
        "colab_type": "code",
        "colab": {}
      },
      "cell_type": "code",
      "source": [
        "from tensorboardcolab import TensorBoardColab, TensorBoardColabCallback\n",
        "\n",
        "tbc=TensorBoardColab()\n"
      ],
      "execution_count": 0,
      "outputs": []
||||||| merged common ancestors
      "execution_count": 5,
      "outputs": [
        {
          "output_type": "stream",
          "text": [
            "Drive already mounted at /Mahmoud; to attempt to forcibly remount, call drive.mount(\"/Mahmoud\", force_remount=True).\n"
          ],
          "name": "stdout"
        }
      ]
=======
      "execution_count": 2,
      "outputs": [
        {
          "output_type": "stream",
          "text": [
            "Go to this URL in a browser: https://accounts.google.com/o/oauth2/auth?client_id=947318989803-6bn6qk8qdgf4n4g3pfee6491hc0brc4i.apps.googleusercontent.com&redirect_uri=urn%3Aietf%3Awg%3Aoauth%3A2.0%3Aoob&scope=email%20https%3A%2F%2Fwww.googleapis.com%2Fauth%2Fdocs.test%20https%3A%2F%2Fwww.googleapis.com%2Fauth%2Fdrive%20https%3A%2F%2Fwww.googleapis.com%2Fauth%2Fdrive.photos.readonly%20https%3A%2F%2Fwww.googleapis.com%2Fauth%2Fpeopleapi.readonly&response_type=code\n",
            "\n",
            "Enter your authorization code:\n",
            "··········\n",
            "Mounted at /Omar\n"
          ],
          "name": "stdout"
        }
      ]
>>>>>>> bb05f3d15a7d23dbb874e4db0479af2dfffdcda7
    },
    {
      "metadata": {
        "id": "lpFKmAsfvDvI",
        "colab_type": "code",
        "colab": {}
      },
      "cell_type": "code",
      "source": [
        "! wget https://bin.equinox.io/c/4VmDzA7iaHb/ngrok-stable-linux-amd64.zip > /dev/null 2>&1\n",
        "! unzip ngrok-stable-linux-amd64.zip > /dev/null 2>&1"
      ],
      "execution_count": 0,
      "outputs": []
    },
    {
      "metadata": {
        "id": "8eU4dxPXu-G3",
        "colab_type": "code",
        "colab": {}
      },
      "cell_type": "code",
      "source": [
        "LOG_DIR = './log'\n",
        "get_ipython().system_raw(\n",
        "    'tensorboard --logdir {} --host 0.0.0.0 --port 6006 &'\n",
        "    .format(LOG_DIR)\n",
        ")"
      ],
      "execution_count": 0,
      "outputs": []
    },
    {
      "metadata": {
        "id": "WnwGXLyrvGMP",
        "colab_type": "code",
        "colab": {}
      },
      "cell_type": "code",
      "source": [
        "get_ipython().system_raw('./ngrok http 6006 &')"
      ],
      "execution_count": 0,
      "outputs": []
    },
    {
      "metadata": {
        "id": "DX0Brd8TvITx",
        "colab_type": "code",
        "colab": {}
      },
      "cell_type": "code",
      "source": [
        "! curl -s http://localhost:4040/api/tunnels | python3 -c \\\n",
        "    \"import sys, json; print(json.load(sys.stdin)['tunnels'][0]['public_url'])\""
      ],
      "execution_count": 0,
      "outputs": []
    },
    {
      "metadata": {
        "id": "2_R1uhoyR7j5",
        "colab_type": "code",
        "colab": {
          "base_uri": "https://localhost:8080/",
          "height": 272
        },
        "outputId": "d71fc82d-f25d-4943-eea2-fdb07199ffb0"
      },
      "cell_type": "code",
      "source": [
        "images = []\n",
        "dir = os.listdir('/Omar/My Drive/animalDataset')\n",
        "inc = 1 \n",
        "for sample in dir:\n",
        "      if sample[0]!='.':\n",
        "        img = (img_to_array(load_img('/Omar/My Drive/animalDataset/'+sample)))/255\n",
        "        images.append(img)\n",
<<<<<<< HEAD
        "      if inc==11:\n",
        "        break\n",
        "      inc+=1\n",
        "print(len(images))"
||||||| merged common ancestors
        "      if inc==11:\n",
        "        break\n",
        "      inc+=1\n",
        "    "
=======
        "        if inc%100==0:\n",
        "          print(inc)\n",
        "        inc = inc+1"
>>>>>>> bb05f3d15a7d23dbb874e4db0479af2dfffdcda7
      ],
      "execution_count": 3,
      "outputs": [
        {
          "output_type": "stream",
          "text": [
            "100\n",
            "200\n",
            "300\n",
            "400\n",
            "500\n",
            "600\n",
            "700\n",
            "800\n",
            "900\n",
            "1000\n",
            "1100\n",
            "1200\n",
            "1300\n",
            "1400\n",
            "1500\n"
          ],
          "name": "stdout"
        }
      ]
    },
    {
      "metadata": {
<<<<<<< HEAD
        "id": "FrsAXE23Gf0_",
||||||| merged common ancestors
        "id": "In8_F106Hen5",
        "colab_type": "code",
        "colab": {
          "base_uri": "https://localhost:8080/",
          "height": 34
        },
        "outputId": "974f8088-89e0-40e4-b1e7-0904ad26b45e"
      },
      "cell_type": "code",
      "source": [
        "print(len(images))"
      ],
      "execution_count": 7,
      "outputs": [
        {
          "output_type": "stream",
          "text": [
            "10\n"
          ],
          "name": "stdout"
        }
      ]
    },
    {
      "metadata": {
        "id": "FrsAXE23Gf0_",
=======
        "id": "RF9gIyonR-86",
        "colab_type": "code",
        "colab": {
          "base_uri": "https://localhost:8080/",
          "height": 34
        },
        "outputId": "cd32e36a-432d-4007-cb38-00a6953df885"
      },
      "cell_type": "code",
      "source": [
        "print(len(images))\n"
      ],
      "execution_count": 4,
      "outputs": [
        {
          "output_type": "stream",
          "text": [
            "1512\n"
          ],
          "name": "stdout"
        }
      ]
    },
    {
      "metadata": {
        "id": "kjgZYxNYSANq",
>>>>>>> bb05f3d15a7d23dbb874e4db0479af2dfffdcda7
        "colab_type": "code",
<<<<<<< HEAD
        "colab": {}
||||||| merged common ancestors
        "colab": {
          "base_uri": "https://localhost:8080/",
          "height": 88
        },
        "outputId": "ff9092b6-6afc-45f7-8ac9-7d8dd7bdcf19"
=======
        "colab": {
          "base_uri": "https://localhost:8080/",
          "height": 88
        },
        "outputId": "0da4474d-40c3-41ec-cbc8-55e511a08424"
>>>>>>> bb05f3d15a7d23dbb874e4db0479af2dfffdcda7
      },
      "cell_type": "code",
      "source": [
        "inception = InceptionResNetV2(weights=None, include_top=True)\n",
        "inception.load_weights('/Omar/My Drive/pretrained model/inception_resnet_v2_weights_tf_dim_ordering_tf_kernels.h5')\n",
        "inception.graph = tf.get_default_graph()"
      ],
<<<<<<< HEAD
      "execution_count": 0,
      "outputs": []
||||||| merged common ancestors
      "execution_count": 8,
      "outputs": [
        {
          "output_type": "stream",
          "text": [
            "WARNING:tensorflow:From /usr/local/lib/python3.6/dist-packages/tensorflow/python/framework/op_def_library.py:263: colocate_with (from tensorflow.python.framework.ops) is deprecated and will be removed in a future version.\n",
            "Instructions for updating:\n",
            "Colocations handled automatically by placer.\n"
          ],
          "name": "stdout"
        }
      ]
=======
      "execution_count": 5,
      "outputs": [
        {
          "output_type": "stream",
          "text": [
            "WARNING:tensorflow:From /usr/local/lib/python3.6/dist-packages/tensorflow/python/framework/op_def_library.py:263: colocate_with (from tensorflow.python.framework.ops) is deprecated and will be removed in a future version.\n",
            "Instructions for updating:\n",
            "Colocations handled automatically by placer.\n"
          ],
          "name": "stdout"
        }
      ]
>>>>>>> bb05f3d15a7d23dbb874e4db0479af2dfffdcda7
    },
    {
      "metadata": {
        "id": "3VbAbFNbSCed",
        "colab_type": "code",
        "colab": {}
      },
      "cell_type": "code",
      "source": [
        "images = np.array(images, dtype=float)\n"
      ],
      "execution_count": 0,
      "outputs": []
    },
    {
      "metadata": {
        "id": "F6_J6bLqSD86",
        "colab_type": "code",
        "colab": {}
      },
      "cell_type": "code",
      "source": [
        "embed_input = Input(shape=(1000,))\n",
        "#Encoder\n",
        "encoder_input = Input(shape=(256, 256, 1,))\n",
        "encoder_output = Conv2D(64, (3,3), activation='relu', padding='same', strides=2)(encoder_input)\n",
        "encoder_output = Conv2D(128, (3,3), activation='relu', padding='same')(encoder_output)\n",
        "encoder_output = Conv2D(128, (3,3), activation='relu', padding='same', strides=2)(encoder_output)\n",
        "encoder_output = Conv2D(256, (3,3), activation='relu', padding='same')(encoder_output)\n",
        "encoder_output = Conv2D(256, (3,3), activation='relu', padding='same', strides=2)(encoder_output)\n",
        "encoder_output = Conv2D(512, (3,3), activation='relu', padding='same')(encoder_output)\n",
        "encoder_output = Conv2D(512, (3,3), activation='relu', padding='same')(encoder_output)\n",
        "encoder_output = Conv2D(256, (3,3), activation='relu', padding='same')(encoder_output)\n",
        "#Fusion\n",
        "fusion_output = RepeatVector(32 * 32)(embed_input) \n",
        "fusion_output = Reshape(([32, 32, 1000]))(fusion_output)\n",
        "fusion_output = concatenate([encoder_output, fusion_output], axis=3) \n",
        "fusion_output = Conv2D(256, (1, 1), activation='relu', padding='same')(fusion_output)\n",
        "#Decoder\n",
        "decoder_output = Conv2D(128, (3,3), activation='relu', padding='same')(fusion_output)\n",
        "decoder_output = UpSampling2D((2, 2))(decoder_output)\n",
        "decoder_output = Conv2D(64, (3,3), activation='relu', padding='same')(decoder_output)\n",
        "decoder_output = UpSampling2D((2, 2))(decoder_output)\n",
        "decoder_output = Conv2D(32, (3,3), activation='relu', padding='same')(decoder_output)\n",
        "decoder_output = Conv2D(16, (3,3), activation='relu', padding='same')(decoder_output)\n",
        "decoder_output = Conv2D(2, (3, 3), activation='tanh', padding='same')(decoder_output)\n",
        "decoder_output = UpSampling2D((2, 2))(decoder_output)\n",
        "model = Model(inputs=[encoder_input, embed_input], outputs=decoder_output)"
      ],
      "execution_count": 0,
      "outputs": []
    },
    {
      "metadata": {
        "id": "Zhh9wdk2SFsq",
        "colab_type": "code",
        "colab": {}
      },
      "cell_type": "code",
      "source": [
        "def create_inception_embedding(grayscaled_rgb):\n",
        "    grayscaled_rgb_resized = []\n",
        "    for i in grayscaled_rgb:\n",
        "        i = resize(i, (299, 299, 3), mode='constant')\n",
        "        grayscaled_rgb_resized.append(i)\n",
        "    grayscaled_rgb_resized = np.array(grayscaled_rgb_resized)\n",
        "    grayscaled_rgb_resized = preprocess_input(grayscaled_rgb_resized)\n",
        "    with inception.graph.as_default():\n",
        "        embed = inception.predict(grayscaled_rgb_resized)\n",
        "    return embed\n",
        "\n",
        "predictions = []\n",
        "X =[]\n",
        "Y =[]\n",
        "inc =0\n",
        "for img in images:\n",
        "  grayscaled_rgb = [gray2rgb(rgb2gray(img))]\n",
        "  predictions.append(create_inception_embedding(grayscaled_rgb))\n",
        "  lab = rgb2lab(img)\n",
        "  X.append(lab[:,:,0])\n",
        "  Y.append(lab[:,:,1:] / 128)\n",
        "  inc+=1\n",
        "  if(inc%100==0):\n",
        "    print(inc)\n",
        "X = np.array(X)\n",
        "Y = np.array(Y)\n",
        "predictions = np.array(predictions)\n",
        "\n",
        "X = X.reshape(X.shape+(1,))\n",
        "predictions = predictions.reshape((len(X),1000))\n",
        "\n",
        "print(X.shape)\n",
        "print(Y.shape)\n",
<<<<<<< HEAD
        "print(predictions.shape)\n"
      ],
      "execution_count": 0,
      "outputs": []
    },
    {
      "metadata": {
        "id": "MatVK0CBI1oT",
        "colab_type": "code",
        "colab": {}
      },
      "cell_type": "code",
      "source": [
        "#Train model      \n",
        "model.compile(optimizer='adam', loss='mse' , metrics=['accuracy'])\n",
        "model.fit([X,predictions],Y, callbacks=[TensorBoardColabCallback(tbc)],validation_split=0.2, epochs=100 )"
||||||| merged common ancestors
        "print(predictions.shape)\n"
      ],
      "execution_count": 12,
      "outputs": [
        {
          "output_type": "stream",
          "text": [
            "(10, 256, 256, 1)\n",
            "(10, 256, 256, 2)\n",
            "(10, 1000)\n"
          ],
          "name": "stdout"
        }
      ]
    },
    {
      "metadata": {
        "id": "MatVK0CBI1oT",
        "colab_type": "code",
        "colab": {}
      },
      "cell_type": "code",
      "source": [
        "#Train model      \n",
        "tensorboard = TensorBoard(log_dir=\"/output\")\n",
        "model.compile(optimizer='adam', loss='mse')\n",
        "model.fit([X,predictions],Y, callbacks=[tensorboard],validation_split=0.2, epochs=2000)"
=======
        "print(predictions.shape)"
>>>>>>> bb05f3d15a7d23dbb874e4db0479af2dfffdcda7
      ],
      "execution_count": 0,
      "outputs": []
    },
    {
      "metadata": {
        "id": "7HWu_j8cSHqQ",
        "colab_type": "code",
<<<<<<< HEAD
        "colab": {}
      },
      "cell_type": "code",
      "source": [
        "\n",
        "model.save('my_model_weights.h5')\n"
      ],
      "execution_count": 0,
      "outputs": []
    },
    {
      "metadata": {
        "id": "8Bs45n3eFWgu",
        "colab_type": "code",
        "colab": {}
      },
      "cell_type": "code",
      "source": [
        "#dir = os.listdir('/Mahmoud/My Drive/newDataset 2')\n",
        "#inc = 1 \n",
        "#for sample in dir:\n",
        "#      if sample[0]!='.':\n",
        "#        print(sample)\n",
        "#      if inc==11:\n",
        "#        break\n",
        "#      inc+=1"
      ],
      "execution_count": 0,
      "outputs": []
    },
    {
      "metadata": {
        "id": "UpMlMYzQFWgy",
        "colab_type": "code",
        "colab": {}
      },
      "cell_type": "code",
      "source": [
        "from google.colab import files\n",
        "\n",
        "uploaded = files.upload()\n",
        "\n",
        "name\n",
        "for fn in uploaded.keys():\n",
        "      name=fn"
      ],
      "execution_count": 0,
      "outputs": []
    },
    {
      "metadata": {
        "id": "Wa-WWMespErt",
        "colab_type": "code",
        "colab": {}
||||||| merged common ancestors
        "colab": {}
      },
      "cell_type": "code",
      "source": [
        "\n",
        "model.save('my_model_weights.h5')\n"
      ],
      "execution_count": 0,
      "outputs": []
    },
    {
      "metadata": {
        "id": "8Bs45n3eFWgu",
        "colab_type": "code",
        "colab": {}
      },
      "cell_type": "code",
      "source": [
        "dir = os.listdir('/Mahmoud/My Drive/newDataset 2')\n",
        "inc = 1 \n",
        "for sample in dir:\n",
        "      if sample[0]!='.':\n",
        "        print(sample)\n",
        "      if inc==11:\n",
        "        break\n",
        "      inc+=1"
      ],
      "execution_count": 0,
      "outputs": []
    },
    {
      "metadata": {
        "id": "UpMlMYzQFWgy",
        "colab_type": "code",
        "outputId": "43c8d17b-0bf4-4fd7-cc21-444a269726a0",
        "colab": {
          "resources": {
            "http://localhost:8080/nbextensions/google.colab/files.js": {
              "data": "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",
              "ok": true,
              "headers": [
                [
                  "content-type",
                  "application/javascript"
                ]
              ],
              "status": 200,
              "status_text": ""
            }
          },
          "base_uri": "https://localhost:8080/",
          "height": 71
        }
      },
      "cell_type": "code",
      "source": [
        "from google.colab import files\n",
        "\n",
        "uploaded = files.upload()"
      ],
      "execution_count": 32,
      "outputs": [
        {
          "output_type": "display_data",
          "data": {
            "text/html": [
              "\n",
              "     <input type=\"file\" id=\"files-b84c6a64-e693-4a45-82e3-e310109d7669\" name=\"files[]\" multiple disabled />\n",
              "     <output id=\"result-b84c6a64-e693-4a45-82e3-e310109d7669\">\n",
              "      Upload widget is only available when the cell has been executed in the\n",
              "      current browser session. Please rerun this cell to enable.\n",
              "      </output>\n",
              "      <script src=\"/nbextensions/google.colab/files.js\"></script> "
            ],
            "text/plain": [
              "<IPython.core.display.HTML object>"
            ]
          },
          "metadata": {
            "tags": []
          }
        },
        {
          "output_type": "stream",
          "text": [
            "Saving testttt.jpg to testttt.jpg\n"
          ],
          "name": "stdout"
        }
      ]
    },
    {
      "metadata": {
        "id": "uHGm-qFFsoI4",
        "colab_type": "code",
        "colab": {}
      },
      "cell_type": "code",
      "source": [
        "color_me = []"
      ],
      "execution_count": 0,
      "outputs": []
    },
    {
      "metadata": {
        "id": "Wa-WWMespErt",
        "colab_type": "code",
        "colab": {}
=======
        "colab": {
          "base_uri": "https://localhost:8080/",
          "height": 1839
        },
        "outputId": "be0ee727-381f-420e-8a03-d597373cc019"
>>>>>>> bb05f3d15a7d23dbb874e4db0479af2dfffdcda7
      },
      "cell_type": "code",
      "source": [
<<<<<<< HEAD
        "color_me = []\n",
        "color_me.append(img_to_array(load_img(name)))\n",
        "color_me = np.array(color_me, dtype=float)\n",
        "gray_me = gray2rgb(rgb2gray(1.0/255*color_me))\n",
        "color_me_embed = create_inception_embedding(gray_me)\n",
        "color_me = rgb2lab(1.0/255*color_me)[:,:,:,0]\n",
        "color_me = color_me.reshape(color_me.shape+(1,))\n",
        "print(color_me.shape)\n"
||||||| merged common ancestors
        "color_me.append(img_to_array(load_img('testttt.jpg')))"
      ],
      "execution_count": 0,
      "outputs": []
    },
    {
      "metadata": {
        "id": "y86caGPdpMIa",
        "colab_type": "code",
        "colab": {}
      },
      "cell_type": "code",
      "source": [
        "color_me = np.array(color_me, dtype=float)\n",
        "gray_me = gray2rgb(rgb2gray(1.0/255*color_me))\n",
        "color_me_embed = create_inception_embedding(gray_me)\n",
        "color_me = rgb2lab(1.0/255*color_me)[:,:,:,0]\n",
        "color_me = color_me.reshape(color_me.shape+(1,))\n"
=======
        "#Train model      \n",
        "tensorboard = TensorBoard(log_dir='./log')\n",
        "model.compile(optimizer='adam', loss='mse')\n",
        "model.fit([X,predictions],Y, callbacks=[tensorboard],validation_split=0.2, epochs=1500)"
>>>>>>> bb05f3d15a7d23dbb874e4db0479af2dfffdcda7
      ],
      "execution_count": 0,
<<<<<<< HEAD
      "outputs": []
    },
    {
      "metadata": {
        "id": "NJ3J8aD9FWhB",
        "colab_type": "code",
        "colab": {}
      },
      "cell_type": "code",
      "source": [
        "output = model.predict([color_me, color_me_embed])\n",
        "output = output * 128\n",
        "\n",
        "# Output colorizations\n",
        "for i in range(len(output)):\n",
        "    cur = np.zeros((256, 256, 3))\n",
        "    cur[:,:,0] = color_me[i][:,:,0]\n",
        "    cur[:,:,1:] = output[i]\n",
        "    imsave(\"result\"+\".png\", lab2rgb(cur))\n",
        "    #imsave(\"greyversion\"+\"png\" , )\n",
        "files.download('result.png')"
||||||| merged common ancestors
      "outputs": []
    },
    {
      "metadata": {
        "id": "y2YfdwZnsP9u",
        "colab_type": "code",
        "outputId": "bc6ae0e8-9ba5-4b92-89bb-df6826b52543",
        "colab": {
          "base_uri": "https://localhost:8080/",
          "height": 34
        }
      },
      "cell_type": "code",
      "source": [
        "print(color_me.shape)"
      ],
      "execution_count": 37,
      "outputs": [
        {
          "output_type": "stream",
          "text": [
            "(1, 256, 256, 1)\n"
          ],
          "name": "stdout"
        }
      ]
    },
    {
      "metadata": {
        "id": "NJ3J8aD9FWhB",
        "colab_type": "code",
        "outputId": "ed859c84-5d83-4d6a-8224-42d85e810045",
        "colab": {
          "base_uri": "https://localhost:8080/",
          "height": 105
        }
      },
      "cell_type": "code",
      "source": [
        "output = model.predict([color_me, color_me_embed])\n",
        "output = output * 128\n",
        "\n",
        "# Output colorizations\n",
        "for i in range(len(output)):\n",
        "    cur = np.zeros((256, 256, 3))\n",
        "    cur[:,:,0] = color_me[i][:,:,0]\n",
        "    cur[:,:,1:] = output[i]\n",
        "    imsave(\"result\"+\".png\", lab2rgb(cur))\n",
        "    #imsave(\"greyversion\"+\"png\" , )"
      ],
      "execution_count": 38,
      "outputs": [
        {
          "output_type": "stream",
          "text": [
            "/usr/local/lib/python3.6/dist-packages/skimage/color/colorconv.py:985: UserWarning: Color data out of range: Z < 0 in 7 pixels\n",
            "  warn('Color data out of range: Z < 0 in %s pixels' % invalid[0].size)\n",
            "/usr/local/lib/python3.6/dist-packages/skimage/util/dtype.py:122: UserWarning: Possible precision loss when converting from float64 to uint8\n",
            "  .format(dtypeobj_in, dtypeobj_out))\n"
          ],
          "name": "stderr"
        }
      ]
    },
    {
      "metadata": {
        "id": "X6yya-CUpUST",
        "colab_type": "code",
        "colab": {}
      },
      "cell_type": "code",
      "source": [
        "files.download('result.png')"
=======
      "outputs": [
        {
          "output_type": "stream",
          "text": [
            "WARNING:tensorflow:From /usr/local/lib/python3.6/dist-packages/tensorflow/python/ops/math_ops.py:3066: to_int32 (from tensorflow.python.ops.math_ops) is deprecated and will be removed in a future version.\n",
            "Instructions for updating:\n",
            "Use tf.cast instead.\n",
            "Train on 1209 samples, validate on 303 samples\n",
            "Epoch 1/1500\n",
            "1209/1209 [==============================] - 45s 37ms/step - loss: 0.0279 - val_loss: 0.0070\n",
            "Epoch 2/1500\n",
            "1209/1209 [==============================] - 30s 25ms/step - loss: 0.0081 - val_loss: 0.0062\n",
            "Epoch 3/1500\n",
            "1209/1209 [==============================] - 30s 25ms/step - loss: 0.0080 - val_loss: 0.0062\n",
            "Epoch 4/1500\n",
            "1209/1209 [==============================] - 30s 25ms/step - loss: 0.0078 - val_loss: 0.0062\n",
            "Epoch 5/1500\n",
            "1209/1209 [==============================] - 30s 25ms/step - loss: 0.0078 - val_loss: 0.0061\n",
            "Epoch 6/1500\n",
            "1209/1209 [==============================] - 30s 25ms/step - loss: 0.0079 - val_loss: 0.0078\n",
            "Epoch 7/1500\n",
            "1209/1209 [==============================] - 30s 25ms/step - loss: 0.0080 - val_loss: 0.0061\n",
            "Epoch 8/1500\n",
            "1209/1209 [==============================] - 30s 25ms/step - loss: 0.0078 - val_loss: 0.0061\n",
            "Epoch 9/1500\n",
            "1209/1209 [==============================] - 30s 25ms/step - loss: 0.0078 - val_loss: 0.0061\n",
            "Epoch 10/1500\n",
            "1209/1209 [==============================] - 30s 25ms/step - loss: 0.0078 - val_loss: 0.0061\n",
            "Epoch 11/1500\n",
            "1209/1209 [==============================] - 30s 25ms/step - loss: 0.0078 - val_loss: 0.0061\n",
            "Epoch 12/1500\n",
            "1209/1209 [==============================] - 30s 25ms/step - loss: 0.0079 - val_loss: 0.0062\n",
            "Epoch 13/1500\n",
            "1209/1209 [==============================] - 30s 25ms/step - loss: 0.0078 - val_loss: 0.0061\n",
            "Epoch 14/1500\n",
            "1209/1209 [==============================] - 30s 25ms/step - loss: 0.0077 - val_loss: 0.0060\n",
            "Epoch 15/1500\n",
            "1209/1209 [==============================] - 30s 25ms/step - loss: 0.0077 - val_loss: 0.0060\n",
            "Epoch 16/1500\n",
            "1209/1209 [==============================] - 30s 25ms/step - loss: 0.0077 - val_loss: 0.0061\n",
            "Epoch 17/1500\n",
            "1209/1209 [==============================] - 30s 25ms/step - loss: 0.0077 - val_loss: 0.0060\n",
            "Epoch 18/1500\n",
            "1209/1209 [==============================] - 30s 25ms/step - loss: 0.0077 - val_loss: 0.0061\n",
            "Epoch 19/1500\n",
            "1209/1209 [==============================] - 30s 25ms/step - loss: 0.0077 - val_loss: 0.0060\n",
            "Epoch 20/1500\n",
            "1209/1209 [==============================] - 30s 25ms/step - loss: 0.0077 - val_loss: 0.0068\n",
            "Epoch 21/1500\n",
            "1209/1209 [==============================] - 30s 25ms/step - loss: 0.0077 - val_loss: 0.0060\n",
            "Epoch 22/1500\n",
            "1209/1209 [==============================] - 30s 25ms/step - loss: 0.0077 - val_loss: 0.0061\n",
            "Epoch 23/1500\n",
            "1209/1209 [==============================] - 30s 25ms/step - loss: 0.0077 - val_loss: 0.0061\n",
            "Epoch 24/1500\n",
            "1209/1209 [==============================] - 30s 25ms/step - loss: 0.0076 - val_loss: 0.0060\n",
            "Epoch 25/1500\n",
            "1209/1209 [==============================] - 30s 25ms/step - loss: 0.0076 - val_loss: 0.0060\n",
            "Epoch 26/1500\n",
            "1209/1209 [==============================] - 30s 25ms/step - loss: 0.0077 - val_loss: 0.0061\n",
            "Epoch 27/1500\n",
            "1209/1209 [==============================] - 30s 25ms/step - loss: 0.0077 - val_loss: 0.0060\n",
            "Epoch 28/1500\n",
            "1209/1209 [==============================] - 30s 25ms/step - loss: 0.0076 - val_loss: 0.0060\n",
            "Epoch 29/1500\n",
            "1209/1209 [==============================] - 30s 25ms/step - loss: 0.0076 - val_loss: 0.0060\n",
            "Epoch 30/1500\n",
            "1209/1209 [==============================] - 30s 25ms/step - loss: 0.0076 - val_loss: 0.0060\n",
            "Epoch 31/1500\n",
            "1209/1209 [==============================] - 30s 25ms/step - loss: 0.0076 - val_loss: 0.0060\n",
            "Epoch 32/1500\n",
            "1209/1209 [==============================] - 30s 25ms/step - loss: 0.0080 - val_loss: 0.0063\n",
            "Epoch 33/1500\n",
            "1209/1209 [==============================] - 30s 25ms/step - loss: 0.0079 - val_loss: 0.0061\n",
            "Epoch 34/1500\n",
            "1209/1209 [==============================] - 30s 25ms/step - loss: 0.0077 - val_loss: 0.0062\n",
            "Epoch 35/1500\n",
            "1209/1209 [==============================] - 30s 25ms/step - loss: 0.0077 - val_loss: 0.0060\n",
            "Epoch 36/1500\n",
            "1209/1209 [==============================] - 30s 25ms/step - loss: 0.0076 - val_loss: 0.0060\n",
            "Epoch 37/1500\n",
            "1209/1209 [==============================] - 30s 25ms/step - loss: 0.0076 - val_loss: 0.0063\n",
            "Epoch 38/1500\n",
            "1209/1209 [==============================] - 30s 25ms/step - loss: 0.0077 - val_loss: 0.0060\n",
            "Epoch 39/1500\n",
            "1209/1209 [==============================] - 30s 25ms/step - loss: 0.0076 - val_loss: 0.0060\n",
            "Epoch 40/1500\n",
            "1209/1209 [==============================] - 30s 25ms/step - loss: 0.0076 - val_loss: 0.0060\n",
            "Epoch 41/1500\n",
            "1209/1209 [==============================] - 30s 25ms/step - loss: 0.0076 - val_loss: 0.0060\n",
            "Epoch 42/1500\n",
            "1209/1209 [==============================] - 30s 25ms/step - loss: 0.0076 - val_loss: 0.0060\n",
            "Epoch 43/1500\n",
            "1209/1209 [==============================] - 30s 25ms/step - loss: 0.0075 - val_loss: 0.0060\n",
            "Epoch 44/1500\n",
            "1209/1209 [==============================] - 30s 25ms/step - loss: 0.0075 - val_loss: 0.0059\n",
            "Epoch 45/1500\n",
            "1209/1209 [==============================] - 30s 25ms/step - loss: 0.0075 - val_loss: 0.0059\n",
            "Epoch 46/1500\n",
            "1209/1209 [==============================] - 30s 25ms/step - loss: 0.0075 - val_loss: 0.0058\n",
            "Epoch 47/1500\n",
            "1209/1209 [==============================] - 30s 25ms/step - loss: 0.0075 - val_loss: 0.0059\n",
            "Epoch 48/1500\n",
            "1209/1209 [==============================] - 30s 25ms/step - loss: 0.0074 - val_loss: 0.0058\n",
            "Epoch 49/1500\n",
            "1209/1209 [==============================] - 30s 25ms/step - loss: 0.0075 - val_loss: 0.0060\n",
            "Epoch 50/1500\n",
            "1209/1209 [==============================] - 30s 25ms/step - loss: 0.0074 - val_loss: 0.0058\n",
            "Epoch 51/1500\n",
            " 160/1209 [==>...........................] - ETA: 23s - loss: 0.0066"
          ],
          "name": "stdout"
        }
      ]
    },
    {
      "metadata": {
        "id": "xGi0L6OgSJV_",
        "colab_type": "code",
        "colab": {}
      },
      "cell_type": "code",
      "source": [
        "model.save('my_model_weights.h5')\n"
>>>>>>> bb05f3d15a7d23dbb874e4db0479af2dfffdcda7
      ],
      "execution_count": 0,
      "outputs": []
<<<<<<< HEAD
||||||| merged common ancestors
    },
    {
      "metadata": {
        "id": "etuWZHbzFWhF",
        "colab_type": "code",
        "colab": {}
      },
      "cell_type": "code",
      "source": [
        ""
      ],
      "execution_count": 0,
      "outputs": []
=======
    },
    {
      "metadata": {
        "id": "9J_QKLlSSL6Q",
        "colab_type": "code",
        "colab": {}
      },
      "cell_type": "code",
      "source": [
        ""
      ],
      "execution_count": 0,
      "outputs": []
>>>>>>> bb05f3d15a7d23dbb874e4db0479af2dfffdcda7
    }
  ]
}