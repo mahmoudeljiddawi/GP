{
  "nbformat": 4,
  "nbformat_minor": 0,
  "metadata": {
    "colab": {
      "name": "Cloud_Training.ipynb",
      "version": "0.3.2",
      "provenance": []
    },
    "kernelspec": {
      "name": "python3",
      "display_name": "Python 3"
    },
    "accelerator": "GPU"
  },
  "cells": [
    {
      "metadata": {
        "id": "SJeIG9EjRjq0",
        "colab_type": "code",
        "colab": {
          "base_uri": "https://localhost:8080/",
          "height": 34
        },
        "outputId": "7981d8a1-15d0-4827-be9b-b6cf4f329b02"
      },
      "cell_type": "code",
      "source": [
        "import keras\n",
        "from keras.applications.inception_resnet_v2 import InceptionResNetV2\n",
        "from keras.preprocessing import image\n",
        "from keras.engine import Layer\n",
        "from keras.applications.inception_resnet_v2 import preprocess_input\n",
        "from keras.layers import Conv2D, UpSampling2D, InputLayer, Conv2DTranspose, Input, Reshape, merge, concatenate\n",
        "from keras.layers import Activation, Dense, Dropout, Flatten\n",
        "from keras.layers.normalization import BatchNormalization\n",
        "from keras.callbacks import TensorBoard \n",
        "from keras.models import Sequential, Model\n",
        "from keras.layers.core import RepeatVector, Permute\n",
        "from keras.preprocessing.image import ImageDataGenerator, array_to_img, img_to_array, load_img\n",
        "from skimage.color import rgb2lab, lab2rgb, rgb2gray, gray2rgb\n",
        "from skimage.transform import resize\n",
        "from skimage.io import imsave\n",
        "import numpy as np\n",
        "import os\n",
        "import random\n",
        "import tensorflow as tf"
      ],
      "execution_count": 1,
      "outputs": [
        {
          "output_type": "stream",
          "text": [
            "Using TensorFlow backend.\n"
          ],
          "name": "stderr"
        }
      ]
    },
    {
      "metadata": {
        "id": "QfA9K4ImR4zv",
        "colab_type": "code",
        "colab": {
          "base_uri": "https://localhost:8080/",
          "height": 122
        },
        "outputId": "011f21df-0545-46a1-b55f-fa4bf313be20"
      },
      "cell_type": "code",
      "source": [
        "from google.colab import drive\n",
        "drive.mount('/Omar')"
      ],
      "execution_count": 2,
      "outputs": [
        {
          "output_type": "stream",
          "text": [
            "Go to this URL in a browser: https://accounts.google.com/o/oauth2/auth?client_id=947318989803-6bn6qk8qdgf4n4g3pfee6491hc0brc4i.apps.googleusercontent.com&redirect_uri=urn%3Aietf%3Awg%3Aoauth%3A2.0%3Aoob&scope=email%20https%3A%2F%2Fwww.googleapis.com%2Fauth%2Fdocs.test%20https%3A%2F%2Fwww.googleapis.com%2Fauth%2Fdrive%20https%3A%2F%2Fwww.googleapis.com%2Fauth%2Fdrive.photos.readonly%20https%3A%2F%2Fwww.googleapis.com%2Fauth%2Fpeopleapi.readonly&response_type=code\n",
            "\n",
            "Enter your authorization code:\n",
            "··········\n",
            "Mounted at /Omar\n"
          ],
          "name": "stdout"
        }
      ]
    },
    {
      "metadata": {
        "id": "lpFKmAsfvDvI",
        "colab_type": "code",
        "colab": {}
      },
      "cell_type": "code",
      "source": [
        "! wget https://bin.equinox.io/c/4VmDzA7iaHb/ngrok-stable-linux-amd64.zip > /dev/null 2>&1\n",
        "! unzip ngrok-stable-linux-amd64.zip > /dev/null 2>&1"
      ],
      "execution_count": 0,
      "outputs": []
    },
    {
      "metadata": {
        "id": "8eU4dxPXu-G3",
        "colab_type": "code",
        "colab": {}
      },
      "cell_type": "code",
      "source": [
        "LOG_DIR = './log'\n",
        "get_ipython().system_raw(\n",
        "    'tensorboard --logdir {} --host 0.0.0.0 --port 6006 &'\n",
        "    .format(LOG_DIR)\n",
        ")"
      ],
      "execution_count": 0,
      "outputs": []
    },
    {
      "metadata": {
        "id": "WnwGXLyrvGMP",
        "colab_type": "code",
        "colab": {}
      },
      "cell_type": "code",
      "source": [
        "get_ipython().system_raw('./ngrok http 6006 &')"
      ],
      "execution_count": 0,
      "outputs": []
    },
    {
      "metadata": {
        "id": "DX0Brd8TvITx",
        "colab_type": "code",
        "colab": {}
      },
      "cell_type": "code",
      "source": [
        "! curl -s http://localhost:4040/api/tunnels | python3 -c \\\n",
        "    \"import sys, json; print(json.load(sys.stdin)['tunnels'][0]['public_url'])\""
      ],
      "execution_count": 0,
      "outputs": []
    },
    {
      "metadata": {
        "id": "2_R1uhoyR7j5",
        "colab_type": "code",
        "colab": {
          "base_uri": "https://localhost:8080/",
          "height": 272
        },
        "outputId": "d71fc82d-f25d-4943-eea2-fdb07199ffb0"
      },
      "cell_type": "code",
      "source": [
        "images = []\n",
        "dir = os.listdir('/Omar/My Drive/animalDataset')\n",
        "inc = 1 \n",
        "for sample in dir:\n",
        "      if sample[0]!='.':\n",
        "        img = (img_to_array(load_img('/Omar/My Drive/animalDataset/'+sample)))/255\n",
        "        images.append(img)\n",
        "        if inc%100==0:\n",
        "          print(inc)\n",
        "        inc = inc+1"
      ],
      "execution_count": 3,
      "outputs": [
        {
          "output_type": "stream",
          "text": [
            "100\n",
            "200\n",
            "300\n",
            "400\n",
            "500\n",
            "600\n",
            "700\n",
            "800\n",
            "900\n",
            "1000\n",
            "1100\n",
            "1200\n",
            "1300\n",
            "1400\n",
            "1500\n"
          ],
          "name": "stdout"
        }
      ]
    },
    {
      "metadata": {
        "id": "RF9gIyonR-86",
        "colab_type": "code",
        "colab": {
          "base_uri": "https://localhost:8080/",
          "height": 34
        },
        "outputId": "cd32e36a-432d-4007-cb38-00a6953df885"
      },
      "cell_type": "code",
      "source": [
        "print(len(images))\n"
      ],
      "execution_count": 4,
      "outputs": [
        {
          "output_type": "stream",
          "text": [
            "1512\n"
          ],
          "name": "stdout"
        }
      ]
    },
    {
      "metadata": {
        "id": "kjgZYxNYSANq",
        "colab_type": "code",
        "colab": {
          "base_uri": "https://localhost:8080/",
          "height": 88
        },
        "outputId": "0da4474d-40c3-41ec-cbc8-55e511a08424"
      },
      "cell_type": "code",
      "source": [
        "inception = InceptionResNetV2(weights=None, include_top=True)\n",
        "inception.load_weights('/Omar/My Drive/pretrained model/inception_resnet_v2_weights_tf_dim_ordering_tf_kernels.h5')\n",
        "inception.graph = tf.get_default_graph()"
      ],
      "execution_count": 5,
      "outputs": [
        {
          "output_type": "stream",
          "text": [
            "WARNING:tensorflow:From /usr/local/lib/python3.6/dist-packages/tensorflow/python/framework/op_def_library.py:263: colocate_with (from tensorflow.python.framework.ops) is deprecated and will be removed in a future version.\n",
            "Instructions for updating:\n",
            "Colocations handled automatically by placer.\n"
          ],
          "name": "stdout"
        }
      ]
    },
    {
      "metadata": {
        "id": "3VbAbFNbSCed",
        "colab_type": "code",
        "colab": {}
      },
      "cell_type": "code",
      "source": [
        "images = np.array(images, dtype=float)\n"
      ],
      "execution_count": 0,
      "outputs": []
    },
    {
      "metadata": {
        "id": "F6_J6bLqSD86",
        "colab_type": "code",
        "colab": {}
      },
      "cell_type": "code",
      "source": [
        "embed_input = Input(shape=(1000,))\n",
        "#Encoder\n",
        "encoder_input = Input(shape=(256, 256, 1,))\n",
        "encoder_output = Conv2D(64, (3,3), activation='relu', padding='same', strides=2)(encoder_input)\n",
        "encoder_output = Conv2D(128, (3,3), activation='relu', padding='same')(encoder_output)\n",
        "encoder_output = Conv2D(128, (3,3), activation='relu', padding='same', strides=2)(encoder_output)\n",
        "encoder_output = Conv2D(256, (3,3), activation='relu', padding='same')(encoder_output)\n",
        "encoder_output = Conv2D(256, (3,3), activation='relu', padding='same', strides=2)(encoder_output)\n",
        "encoder_output = Conv2D(512, (3,3), activation='relu', padding='same')(encoder_output)\n",
        "encoder_output = Conv2D(512, (3,3), activation='relu', padding='same')(encoder_output)\n",
        "encoder_output = Conv2D(256, (3,3), activation='relu', padding='same')(encoder_output)\n",
        "#Fusion\n",
        "fusion_output = RepeatVector(32 * 32)(embed_input) \n",
        "fusion_output = Reshape(([32, 32, 1000]))(fusion_output)\n",
        "fusion_output = concatenate([encoder_output, fusion_output], axis=3) \n",
        "fusion_output = Conv2D(256, (1, 1), activation='relu', padding='same')(fusion_output)\n",
        "#Decoder\n",
        "decoder_output = Conv2D(128, (3,3), activation='relu', padding='same')(fusion_output)\n",
        "decoder_output = UpSampling2D((2, 2))(decoder_output)\n",
        "decoder_output = Conv2D(64, (3,3), activation='relu', padding='same')(decoder_output)\n",
        "decoder_output = UpSampling2D((2, 2))(decoder_output)\n",
        "decoder_output = Conv2D(32, (3,3), activation='relu', padding='same')(decoder_output)\n",
        "decoder_output = Conv2D(16, (3,3), activation='relu', padding='same')(decoder_output)\n",
        "decoder_output = Conv2D(2, (3, 3), activation='tanh', padding='same')(decoder_output)\n",
        "decoder_output = UpSampling2D((2, 2))(decoder_output)\n",
        "model = Model(inputs=[encoder_input, embed_input], outputs=decoder_output)"
      ],
      "execution_count": 0,
      "outputs": []
    },
    {
      "metadata": {
        "id": "Zhh9wdk2SFsq",
        "colab_type": "code",
        "colab": {}
      },
      "cell_type": "code",
      "source": [
        "def create_inception_embedding(grayscaled_rgb):\n",
        "    grayscaled_rgb_resized = []\n",
        "    for i in grayscaled_rgb:\n",
        "        i = resize(i, (299, 299, 3), mode='constant')\n",
        "        grayscaled_rgb_resized.append(i)\n",
        "    grayscaled_rgb_resized = np.array(grayscaled_rgb_resized)\n",
        "    grayscaled_rgb_resized = preprocess_input(grayscaled_rgb_resized)\n",
        "    with inception.graph.as_default():\n",
        "        embed = inception.predict(grayscaled_rgb_resized)\n",
        "    return embed\n",
        "\n",
        "predictions = []\n",
        "X =[]\n",
        "Y =[]\n",
        "inc =0\n",
        "for img in images:\n",
        "  grayscaled_rgb = [gray2rgb(rgb2gray(img))]\n",
        "  predictions.append(create_inception_embedding(grayscaled_rgb))\n",
        "  lab = rgb2lab(img)\n",
        "  X.append(lab[:,:,0])\n",
        "  Y.append(lab[:,:,1:] / 128)\n",
        "  inc+=1\n",
        "  if(inc%100==0):\n",
        "    print(inc)\n",
        "X = np.array(X)\n",
        "Y = np.array(Y)\n",
        "predictions = np.array(predictions)\n",
        "\n",
        "X = X.reshape(X.shape+(1,))\n",
        "predictions = predictions.reshape((len(X),1000))\n",
        "\n",
        "print(X.shape)\n",
        "print(Y.shape)\n",
        "print(predictions.shape)"
      ],
      "execution_count": 0,
      "outputs": []
    },
    {
      "metadata": {
        "id": "7HWu_j8cSHqQ",
        "colab_type": "code",
        "colab": {
          "base_uri": "https://localhost:8080/",
          "height": 1839
        },
        "outputId": "be0ee727-381f-420e-8a03-d597373cc019"
      },
      "cell_type": "code",
      "source": [
        "#Train model      \n",
        "tensorboard = TensorBoard(log_dir='./log')\n",
        "model.compile(optimizer='adam', loss='mse')\n",
        "model.fit([X,predictions],Y, callbacks=[tensorboard],validation_split=0.2, epochs=1500)"
      ],
      "execution_count": 0,
      "outputs": [
        {
          "output_type": "stream",
          "text": [
            "WARNING:tensorflow:From /usr/local/lib/python3.6/dist-packages/tensorflow/python/ops/math_ops.py:3066: to_int32 (from tensorflow.python.ops.math_ops) is deprecated and will be removed in a future version.\n",
            "Instructions for updating:\n",
            "Use tf.cast instead.\n",
            "Train on 1209 samples, validate on 303 samples\n",
            "Epoch 1/1500\n",
            "1209/1209 [==============================] - 45s 37ms/step - loss: 0.0279 - val_loss: 0.0070\n",
            "Epoch 2/1500\n",
            "1209/1209 [==============================] - 30s 25ms/step - loss: 0.0081 - val_loss: 0.0062\n",
            "Epoch 3/1500\n",
            "1209/1209 [==============================] - 30s 25ms/step - loss: 0.0080 - val_loss: 0.0062\n",
            "Epoch 4/1500\n",
            "1209/1209 [==============================] - 30s 25ms/step - loss: 0.0078 - val_loss: 0.0062\n",
            "Epoch 5/1500\n",
            "1209/1209 [==============================] - 30s 25ms/step - loss: 0.0078 - val_loss: 0.0061\n",
            "Epoch 6/1500\n",
            "1209/1209 [==============================] - 30s 25ms/step - loss: 0.0079 - val_loss: 0.0078\n",
            "Epoch 7/1500\n",
            "1209/1209 [==============================] - 30s 25ms/step - loss: 0.0080 - val_loss: 0.0061\n",
            "Epoch 8/1500\n",
            "1209/1209 [==============================] - 30s 25ms/step - loss: 0.0078 - val_loss: 0.0061\n",
            "Epoch 9/1500\n",
            "1209/1209 [==============================] - 30s 25ms/step - loss: 0.0078 - val_loss: 0.0061\n",
            "Epoch 10/1500\n",
            "1209/1209 [==============================] - 30s 25ms/step - loss: 0.0078 - val_loss: 0.0061\n",
            "Epoch 11/1500\n",
            "1209/1209 [==============================] - 30s 25ms/step - loss: 0.0078 - val_loss: 0.0061\n",
            "Epoch 12/1500\n",
            "1209/1209 [==============================] - 30s 25ms/step - loss: 0.0079 - val_loss: 0.0062\n",
            "Epoch 13/1500\n",
            "1209/1209 [==============================] - 30s 25ms/step - loss: 0.0078 - val_loss: 0.0061\n",
            "Epoch 14/1500\n",
            "1209/1209 [==============================] - 30s 25ms/step - loss: 0.0077 - val_loss: 0.0060\n",
            "Epoch 15/1500\n",
            "1209/1209 [==============================] - 30s 25ms/step - loss: 0.0077 - val_loss: 0.0060\n",
            "Epoch 16/1500\n",
            "1209/1209 [==============================] - 30s 25ms/step - loss: 0.0077 - val_loss: 0.0061\n",
            "Epoch 17/1500\n",
            "1209/1209 [==============================] - 30s 25ms/step - loss: 0.0077 - val_loss: 0.0060\n",
            "Epoch 18/1500\n",
            "1209/1209 [==============================] - 30s 25ms/step - loss: 0.0077 - val_loss: 0.0061\n",
            "Epoch 19/1500\n",
            "1209/1209 [==============================] - 30s 25ms/step - loss: 0.0077 - val_loss: 0.0060\n",
            "Epoch 20/1500\n",
            "1209/1209 [==============================] - 30s 25ms/step - loss: 0.0077 - val_loss: 0.0068\n",
            "Epoch 21/1500\n",
            "1209/1209 [==============================] - 30s 25ms/step - loss: 0.0077 - val_loss: 0.0060\n",
            "Epoch 22/1500\n",
            "1209/1209 [==============================] - 30s 25ms/step - loss: 0.0077 - val_loss: 0.0061\n",
            "Epoch 23/1500\n",
            "1209/1209 [==============================] - 30s 25ms/step - loss: 0.0077 - val_loss: 0.0061\n",
            "Epoch 24/1500\n",
            "1209/1209 [==============================] - 30s 25ms/step - loss: 0.0076 - val_loss: 0.0060\n",
            "Epoch 25/1500\n",
            "1209/1209 [==============================] - 30s 25ms/step - loss: 0.0076 - val_loss: 0.0060\n",
            "Epoch 26/1500\n",
            "1209/1209 [==============================] - 30s 25ms/step - loss: 0.0077 - val_loss: 0.0061\n",
            "Epoch 27/1500\n",
            "1209/1209 [==============================] - 30s 25ms/step - loss: 0.0077 - val_loss: 0.0060\n",
            "Epoch 28/1500\n",
            "1209/1209 [==============================] - 30s 25ms/step - loss: 0.0076 - val_loss: 0.0060\n",
            "Epoch 29/1500\n",
            "1209/1209 [==============================] - 30s 25ms/step - loss: 0.0076 - val_loss: 0.0060\n",
            "Epoch 30/1500\n",
            "1209/1209 [==============================] - 30s 25ms/step - loss: 0.0076 - val_loss: 0.0060\n",
            "Epoch 31/1500\n",
            "1209/1209 [==============================] - 30s 25ms/step - loss: 0.0076 - val_loss: 0.0060\n",
            "Epoch 32/1500\n",
            "1209/1209 [==============================] - 30s 25ms/step - loss: 0.0080 - val_loss: 0.0063\n",
            "Epoch 33/1500\n",
            "1209/1209 [==============================] - 30s 25ms/step - loss: 0.0079 - val_loss: 0.0061\n",
            "Epoch 34/1500\n",
            "1209/1209 [==============================] - 30s 25ms/step - loss: 0.0077 - val_loss: 0.0062\n",
            "Epoch 35/1500\n",
            "1209/1209 [==============================] - 30s 25ms/step - loss: 0.0077 - val_loss: 0.0060\n",
            "Epoch 36/1500\n",
            "1209/1209 [==============================] - 30s 25ms/step - loss: 0.0076 - val_loss: 0.0060\n",
            "Epoch 37/1500\n",
            "1209/1209 [==============================] - 30s 25ms/step - loss: 0.0076 - val_loss: 0.0063\n",
            "Epoch 38/1500\n",
            "1209/1209 [==============================] - 30s 25ms/step - loss: 0.0077 - val_loss: 0.0060\n",
            "Epoch 39/1500\n",
            "1209/1209 [==============================] - 30s 25ms/step - loss: 0.0076 - val_loss: 0.0060\n",
            "Epoch 40/1500\n",
            "1209/1209 [==============================] - 30s 25ms/step - loss: 0.0076 - val_loss: 0.0060\n",
            "Epoch 41/1500\n",
            "1209/1209 [==============================] - 30s 25ms/step - loss: 0.0076 - val_loss: 0.0060\n",
            "Epoch 42/1500\n",
            "1209/1209 [==============================] - 30s 25ms/step - loss: 0.0076 - val_loss: 0.0060\n",
            "Epoch 43/1500\n",
            "1209/1209 [==============================] - 30s 25ms/step - loss: 0.0075 - val_loss: 0.0060\n",
            "Epoch 44/1500\n",
            "1209/1209 [==============================] - 30s 25ms/step - loss: 0.0075 - val_loss: 0.0059\n",
            "Epoch 45/1500\n",
            "1209/1209 [==============================] - 30s 25ms/step - loss: 0.0075 - val_loss: 0.0059\n",
            "Epoch 46/1500\n",
            "1209/1209 [==============================] - 30s 25ms/step - loss: 0.0075 - val_loss: 0.0058\n",
            "Epoch 47/1500\n",
            "1209/1209 [==============================] - 30s 25ms/step - loss: 0.0075 - val_loss: 0.0059\n",
            "Epoch 48/1500\n",
            "1209/1209 [==============================] - 30s 25ms/step - loss: 0.0074 - val_loss: 0.0058\n",
            "Epoch 49/1500\n",
            "1209/1209 [==============================] - 30s 25ms/step - loss: 0.0075 - val_loss: 0.0060\n",
            "Epoch 50/1500\n",
            "1209/1209 [==============================] - 30s 25ms/step - loss: 0.0074 - val_loss: 0.0058\n",
            "Epoch 51/1500\n",
            " 160/1209 [==>...........................] - ETA: 23s - loss: 0.0066"
          ],
          "name": "stdout"
        }
      ]
    },
    {
      "metadata": {
        "id": "xGi0L6OgSJV_",
        "colab_type": "code",
        "colab": {}
      },
      "cell_type": "code",
      "source": [
        "model.save('my_model_weights.h5')\n"
      ],
      "execution_count": 0,
      "outputs": []
    },
    {
      "metadata": {
        "id": "9J_QKLlSSL6Q",
        "colab_type": "code",
        "colab": {}
      },
      "cell_type": "code",
      "source": [
        ""
      ],
      "execution_count": 0,
      "outputs": []
    }
  ]
}